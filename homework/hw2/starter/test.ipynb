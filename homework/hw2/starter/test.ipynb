{
 "cells": [
  {
   "cell_type": "code",
   "execution_count": 2,
   "metadata": {},
   "outputs": [],
   "source": [
    "import torch"
   ]
  },
  {
   "cell_type": "code",
   "execution_count": 17,
   "metadata": {},
   "outputs": [
    {
     "name": "stdout",
     "output_type": "stream",
     "text": [
      "torch.Size([6, 1, 3]) torch.Size([1, 6, 3])\n"
     ]
    }
   ],
   "source": [
    "tensor = torch.tensor([\n",
    "    [1, 2, 10],\n",
    "    [1, 3, 20],\n",
    "    [2, 4, 30],\n",
    "    [2, 5, 40],\n",
    "    [3, 6, 50],\n",
    "    [3, 7, 60]\n",
    "])\n",
    "tensor_1 = tensor.unsqueeze(dim=1)\n",
    "tensor_2 = tensor.unsqueeze(dim=0)\n",
    "print(tensor_1.shape , tensor_2.shape)\n"
   ]
  },
  {
   "cell_type": "code",
   "execution_count": 18,
   "metadata": {},
   "outputs": [
    {
     "data": {
      "text/plain": [
       "torch.Size([6, 6, 3])"
      ]
     },
     "execution_count": 18,
     "metadata": {},
     "output_type": "execute_result"
    }
   ],
   "source": [
    "(tensor_2 - tensor_1).shape"
   ]
  },
  {
   "cell_type": "code",
   "execution_count": 15,
   "metadata": {},
   "outputs": [
    {
     "data": {
      "text/plain": [
       "tensor([[ 0,  1,  9],\n",
       "        [-1,  1, 18],\n",
       "        [-1,  1, 27],\n",
       "        [-2,  1, 36],\n",
       "        [-2,  1, 45],\n",
       "        [-3,  1, 54]])"
      ]
     },
     "execution_count": 15,
     "metadata": {},
     "output_type": "execute_result"
    }
   ],
   "source": [
    "tensor2 = torch.tensor([1,2,3,4,5,6])\n",
    "tensor2 = tensor2.unsqueeze(dim=1)\n",
    "tensor - tensor2"
   ]
  },
  {
   "cell_type": "code",
   "execution_count": 3,
   "metadata": {},
   "outputs": [],
   "source": [
    "column_to_group_by = tensor[:, 0]"
   ]
  },
  {
   "cell_type": "code",
   "execution_count": 6,
   "metadata": {},
   "outputs": [
    {
     "data": {
      "text/plain": [
       "tensor([1, 1, 2, 2, 3, 3])"
      ]
     },
     "execution_count": 6,
     "metadata": {},
     "output_type": "execute_result"
    }
   ],
   "source": [
    "column_to_group_by"
   ]
  },
  {
   "cell_type": "code",
   "execution_count": 14,
   "metadata": {},
   "outputs": [
    {
     "data": {
      "text/plain": [
       "3"
      ]
     },
     "execution_count": 14,
     "metadata": {},
     "output_type": "execute_result"
    }
   ],
   "source": [
    "torch.unique(column_to_group_by).size(0)"
   ]
  },
  {
   "cell_type": "code",
   "execution_count": 7,
   "metadata": {},
   "outputs": [],
   "source": [
    "sum_tensor = torch.zeros(torch.unique(column_to_group_by).size(0))\n",
    "\n",
    "for i, group_key in enumerate(torch.unique(column_to_group_by)):\n",
    "    group_sum = tensor[column_to_group_by == group_key][:, 1].sum()\n",
    "    sum_tensor[i] = group_sum"
   ]
  },
  {
   "cell_type": "code",
   "execution_count": 8,
   "metadata": {},
   "outputs": [
    {
     "data": {
      "text/plain": [
       "tensor([ 5.,  9., 13.])"
      ]
     },
     "execution_count": 8,
     "metadata": {},
     "output_type": "execute_result"
    }
   ],
   "source": [
    "sum_tensor"
   ]
  },
  {
   "cell_type": "code",
   "execution_count": 1,
   "metadata": {},
   "outputs": [
    {
     "name": "stdout",
     "output_type": "stream",
     "text": [
      "1 3\n",
      "2 4\n",
      "3 5\n",
      "4 6\n"
     ]
    }
   ],
   "source": [
    "arr_1 = [1,2,3,4]\n",
    "arr_2 = [3,4,5,6]\n",
    "for k,v in zip(arr_1,arr_2):\n",
    "    print(k,v)"
   ]
  },
  {
   "cell_type": "code",
   "execution_count": 5,
   "metadata": {},
   "outputs": [
    {
     "data": {
      "text/plain": [
       "(4, 5)"
      ]
     },
     "execution_count": 5,
     "metadata": {},
     "output_type": "execute_result"
    }
   ],
   "source": [
    "def func_1(b:int):\n",
    "    def func(a):\n",
    "\n",
    "        a+=1\n",
    "    func(a)\n",
    "    return a,b\n",
    "\n",
    "a = 4\n",
    "b =5\n",
    "func_1(b)"
   ]
  },
  {
   "cell_type": "code",
   "execution_count": null,
   "metadata": {},
   "outputs": [],
   "source": []
  }
 ],
 "metadata": {
  "kernelspec": {
   "display_name": "base",
   "language": "python",
   "name": "python3"
  },
  "language_info": {
   "codemirror_mode": {
    "name": "ipython",
    "version": 3
   },
   "file_extension": ".py",
   "mimetype": "text/x-python",
   "name": "python",
   "nbconvert_exporter": "python",
   "pygments_lexer": "ipython3",
   "version": "3.10.8"
  }
 },
 "nbformat": 4,
 "nbformat_minor": 2
}
