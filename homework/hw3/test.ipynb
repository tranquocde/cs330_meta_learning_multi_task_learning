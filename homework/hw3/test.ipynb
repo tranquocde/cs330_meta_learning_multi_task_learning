{
 "cells": [
  {
   "cell_type": "code",
   "execution_count": 2,
   "metadata": {},
   "outputs": [
    {
     "name": "stdout",
     "output_type": "stream",
     "text": [
      "Accuracy: 0.5\n"
     ]
    }
   ],
   "source": [
    "import torch\n",
    "\n",
    "# Example logits and targets\n",
    "logits = torch.tensor([[0.2, 0.5, 0.3], [0.8, 0.1, 0.1]])  # Shape: (batch_size, num_classes)\n",
    "targets = torch.tensor([3, 1])  # Shape: (batch_size,)\n",
    "\n",
    "# Obtain predicted labels\n",
    "predicted_labels = torch.argmax(logits, dim=1)+1  # Shape: (batch_size,)\n",
    "\n",
    "# Compare predicted labels with targets\n",
    "correct_predictions = predicted_labels.eq(targets)  # Shape: (batch_size,)\n",
    "\n",
    "# Calculate accuracy\n",
    "accuracy = correct_predictions.float().mean().item()\n",
    "\n",
    "print(f\"Accuracy: {accuracy}\")"
   ]
  },
  {
   "cell_type": "code",
   "execution_count": 2,
   "metadata": {},
   "outputs": [
    {
     "name": "stdout",
     "output_type": "stream",
     "text": [
      "[4, 1, 2, 3, 5]\n"
     ]
    }
   ],
   "source": [
    "import numpy as np\n",
    "my_list = [1,2,3,4,5]  # Original list\n",
    "given_order = np.random.permutation(my_list)  # Given order\n",
    "\n",
    "# Sort the list based on the given order\n",
    "reordered_list = sorted(my_list, key=lambda x: list(given_order).index(x))\n",
    "\n",
    "print(reordered_list)"
   ]
  },
  {
   "cell_type": "code",
   "execution_count": 1,
   "metadata": {},
   "outputs": [
    {
     "name": "stdout",
     "output_type": "stream",
     "text": [
      "Parameter containing:\n",
      "tensor([[-0.0442, -0.1917, -0.1996,  0.1414, -0.2238,  0.1140,  0.2459, -0.2671,\n",
      "         -0.0797,  0.1882],\n",
      "        [ 0.2756,  0.1624, -0.1246, -0.0331, -0.0449, -0.1547,  0.2997,  0.1138,\n",
      "          0.2332, -0.1224],\n",
      "        [ 0.0642,  0.0949,  0.2816, -0.1502, -0.1540, -0.2988,  0.1902,  0.0542,\n",
      "          0.1674, -0.1483],\n",
      "        [ 0.0230,  0.0227, -0.2840,  0.2945,  0.2882, -0.1243,  0.3031,  0.0629,\n",
      "         -0.1000,  0.0195],\n",
      "        [ 0.0152, -0.1481, -0.1616,  0.1699,  0.1351,  0.1552, -0.1180,  0.2252,\n",
      "         -0.1262, -0.1113]], requires_grad=True)\n"
     ]
    }
   ],
   "source": [
    "import torch\n",
    "\n",
    "import torch.nn as nn\n",
    "\n",
    "class MyModel(nn.Module):\n",
    "    def __init__(self):\n",
    "        super(MyModel, self).__init__()\n",
    "        self.fc = nn.Linear(10, 5)\n",
    "\n",
    "model = MyModel()\n",
    "\n",
    "# Access the weight parameter of the linear layer (nn.Linear)\n",
    "weight = model.fc.weight\n",
    "print(weight)"
   ]
  },
  {
   "cell_type": "code",
   "execution_count": 5,
   "metadata": {},
   "outputs": [
    {
     "name": "stdout",
     "output_type": "stream",
     "text": [
      "tensor([[2, 3, 1],\n",
      "        [5, 6, 4],\n",
      "        [8, 9, 7]])\n",
      "tensor([[1, 2, 3],\n",
      "        [4, 5, 6],\n",
      "        [7, 8, 9]])\n"
     ]
    }
   ],
   "source": [
    "import torch\n",
    "\n",
    "# Create a tensor\n",
    "tensor = torch.tensor([[1, 2, 3], [4, 5, 6], [7, 8, 9]])\n",
    "\n",
    "# Perform circular shift along the first dimension (rows)\n",
    "shifted_tensor = torch.roll(tensor, shifts=-1, dims=1)\n",
    "\n",
    "print(shifted_tensor)\n",
    "print(tensor)"
   ]
  },
  {
   "cell_type": "code",
   "execution_count": 2,
   "metadata": {},
   "outputs": [
    {
     "name": "stdout",
     "output_type": "stream",
     "text": [
      "False\n"
     ]
    }
   ],
   "source": [
    "import torch\n",
    "print(torch.cuda.is_available())"
   ]
  },
  {
   "cell_type": "code",
   "execution_count": 6,
   "metadata": {},
   "outputs": [
    {
     "name": "stdout",
     "output_type": "stream",
     "text": [
      "[1, 0, 0, 0, 0]\n",
      "[0, 0, 0, 1, 0]\n",
      "[0, 1, 0, 0, 0]\n",
      "[0, 0, 0, 0, 1]\n",
      "[0, 0, 1, 0, 0]\n"
     ]
    }
   ],
   "source": [
    "def is_valid(board, row, col):\n",
    "    for i in range(col):\n",
    "        if board[row][i] == 1:\n",
    "            return False\n",
    "\n",
    "    for i, j in zip(range(row, -1, -1), range(col, -1, -1)):\n",
    "        if board[i][j] == 1:\n",
    "            return False\n",
    "\n",
    "    for i, j in zip(range(row, len(board), 1), range(col, -1, -1)):\n",
    "        if board[i][j] == 1:\n",
    "            return False\n",
    "\n",
    "    return True\n",
    "\n",
    "def solve_n_queens(board, col):\n",
    "    if col >= len(board):\n",
    "        return True\n",
    "\n",
    "    for i in range(len(board)):\n",
    "        if is_valid(board, i, col):\n",
    "            board[i][col] = 1\n",
    "\n",
    "            if solve_n_queens(board, col + 1):\n",
    "                return True\n",
    "\n",
    "            board[i][col] = 0\n",
    "\n",
    "    return False\n",
    "\n",
    "def n_queens(n):\n",
    "    board = [[0]*n for _ in range(n)]\n",
    "\n",
    "    if not solve_n_queens(board, 0):\n",
    "        print(\"Solution does not exist.\")\n",
    "        return\n",
    "\n",
    "    for row in board:\n",
    "        print(row)\n",
    "\n",
    "n_queens(5)\n"
   ]
  },
  {
   "cell_type": "code",
   "execution_count": null,
   "metadata": {},
   "outputs": [],
   "source": []
  }
 ],
 "metadata": {
  "kernelspec": {
   "display_name": "base",
   "language": "python",
   "name": "python3"
  },
  "language_info": {
   "codemirror_mode": {
    "name": "ipython",
    "version": 3
   },
   "file_extension": ".py",
   "mimetype": "text/x-python",
   "name": "python",
   "nbconvert_exporter": "python",
   "pygments_lexer": "ipython3",
   "version": "3.9.13"
  }
 },
 "nbformat": 4,
 "nbformat_minor": 2
}
